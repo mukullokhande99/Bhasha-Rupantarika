{
 "cells": [
  {
   "cell_type": "markdown",
   "id": "a5948658",
   "metadata": {},
   "source": [
    "# AI4Bharat IndicConformer (ASR for Indian Languages)"
   ]
  },
  {
   "cell_type": "code",
   "execution_count": null,
   "id": "8439cee1",
   "metadata": {},
   "outputs": [],
   "source": [
    "!pip install torch torchaudio transformers"
   ]
  },
  {
   "cell_type": "code",
   "execution_count": null,
   "id": "be0aba8d",
   "metadata": {},
   "outputs": [],
   "source": [
    "\n",
    "import torch\n",
    "from transformers import AutoProcessor, AutoModelForCTC\n",
    "import torchaudio\n",
    "\n",
    "DEVICE = \"cuda\" if torch.cuda.is_available() else \"cpu\"\n",
    "MODEL_ID = \"ai4bharat/indicconformer\"\n",
    "\n",
    "processor = AutoProcessor.from_pretrained(MODEL_ID)\n",
    "model = AutoModelForCTC.from_pretrained(MODEL_ID).to(DEVICE)\n",
    "\n",
    "waveform, rate = torchaudio.load(\"sample_indic.wav\")\n",
    "inputs = processor(waveform.squeeze().numpy(), sampling_rate=rate, return_tensors=\"pt\", padding=True)\n",
    "\n",
    "with torch.no_grad():\n",
    "    logits = model(inputs.input_values.to(DEVICE)).logits\n",
    "\n",
    "predicted_ids = torch.argmax(logits, dim=-1)\n",
    "transcription = processor.batch_decode(predicted_ids)\n",
    "print(\"Indic Transcription:\", transcription[0])\n"
   ]
  }
 ],
 "metadata": {},
 "nbformat": 4,
 "nbformat_minor": 5
}
