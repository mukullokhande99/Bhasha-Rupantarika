{
 "cells": [
  {
   "cell_type": "markdown",
   "id": "049076b8",
   "metadata": {},
   "source": [
    "# NLLB-200 (Distilled INT4, 600M Parameters)"
   ]
  },
  {
   "cell_type": "code",
   "execution_count": null,
   "id": "eca1800c",
   "metadata": {},
   "outputs": [],
   "source": [
    "!pip install torch transformers bitsandbytes sentencepiece"
   ]
  },
  {
   "cell_type": "code",
   "execution_count": null,
   "id": "8c606e3f",
   "metadata": {},
   "outputs": [],
   "source": [
    "\n",
    "from transformers import BitsAndBytesConfig\n",
    "\n",
    "def get_quant_config(mode=\"int4\"):\n",
    "    if mode == \"int4\":\n",
    "        return BitsAndBytesConfig(load_in_4bit=True, bnb_4bit_use_double_quant=True, bnb_4bit_compute_dtype=torch.bfloat16)\n",
    "    elif mode == \"int8\":\n",
    "        return BitsAndBytesConfig(load_in_8bit=True)\n",
    "    else:\n",
    "        return None\n"
   ]
  },
  {
   "cell_type": "code",
   "execution_count": null,
   "id": "3856c32e",
   "metadata": {},
   "outputs": [],
   "source": [
    "\n",
    "import torch\n",
    "from transformers import AutoTokenizer, AutoModelForSeq2SeqLM\n",
    "\n",
    "DEVICE = \"cuda\" if torch.cuda.is_available() else \"cpu\"\n",
    "MODEL_ID = \"facebook/nllb-200-distilled-600M\"\n",
    "\n",
    "tokenizer = AutoTokenizer.from_pretrained(MODEL_ID)\n",
    "model = AutoModelForSeq2SeqLM.from_pretrained(MODEL_ID, quantization_config=get_quant_config(\"int4\")).to(DEVICE)\n",
    "\n",
    "inputs = tokenizer(\"Bonjour tout le monde\", return_tensors=\"pt\").to(DEVICE)\n",
    "with torch.no_grad():\n",
    "    outputs = model.generate(**inputs, max_length=128)\n",
    "\n",
    "print(\"Translation:\", tokenizer.decode(outputs[0], skip_special_tokens=True))\n"
   ]
  }
 ],
 "metadata": {},
 "nbformat": 4,
 "nbformat_minor": 5
}
