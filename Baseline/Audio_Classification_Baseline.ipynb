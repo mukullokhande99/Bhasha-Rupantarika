{
 "cells": [
  {
   "cell_type": "markdown",
   "id": "08b5cb9b",
   "metadata": {},
   "source": [
    "# Audio Classification Baseline (HuggingFace Models)"
   ]
  },
  {
   "cell_type": "code",
   "execution_count": null,
   "id": "2979b314",
   "metadata": {},
   "outputs": [],
   "source": [
    "!pip install torch torchaudio transformers librosa"
   ]
  },
  {
   "cell_type": "code",
   "execution_count": null,
   "id": "e4d344c6",
   "metadata": {},
   "outputs": [],
   "source": [
    "\n",
    "import torch, torchaudio, librosa, numpy as np\n",
    "from transformers import AutoFeatureExtractor, AutoModelForAudioClassification\n",
    "\n",
    "MODEL_ID = \"superb/wav2vec2-base-superb-ks\"  # example pretrained model for keyword spotting\n",
    "AUDIO_PATH = \"download.mp3\"\n",
    "\n",
    "# Load audio\n",
    "waveform, rate = torchaudio.load(AUDIO_PATH)\n",
    "waveform = waveform.mean(dim=0)  # mono\n",
    "\n",
    "# Load feature extractor & model\n",
    "extractor = AutoFeatureExtractor.from_pretrained(MODEL_ID)\n",
    "model = AutoModelForAudioClassification.from_pretrained(MODEL_ID)\n",
    "\n",
    "inputs = extractor(waveform.numpy(), sampling_rate=rate, return_tensors=\"pt\", padding=True)\n",
    "with torch.no_grad():\n",
    "    logits = model(**inputs).logits\n",
    "\n",
    "predicted_ids = torch.argmax(logits, dim=-1)\n",
    "print(\"Predicted Class:\", predicted_ids.item())\n"
   ]
  }
 ],
 "metadata": {},
 "nbformat": 4,
 "nbformat_minor": 5
}
