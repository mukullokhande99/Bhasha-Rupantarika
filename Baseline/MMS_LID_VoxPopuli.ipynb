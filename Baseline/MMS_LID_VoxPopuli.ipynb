{
 "cells": [
  {
   "cell_type": "markdown",
   "id": "85c5dfb4",
   "metadata": {},
   "source": [
    "# MMS-LID VoxPopuli Language Identification"
   ]
  },
  {
   "cell_type": "code",
   "execution_count": null,
   "id": "834b62af",
   "metadata": {},
   "outputs": [],
   "source": [
    "!pip install torch torchaudio transformers librosa"
   ]
  },
  {
   "cell_type": "code",
   "execution_count": null,
   "id": "d9422d94",
   "metadata": {},
   "outputs": [],
   "source": [
    "\n",
    "import torch\n",
    "from transformers import pipeline\n",
    "\n",
    "DEVICE = 0 if torch.cuda.is_available() else -1\n",
    "\n",
    "# Load MMS-LID VoxPopuli model\n",
    "lid = pipeline(\"audio-classification\", model=\"facebook/mms-lid-voxpopuli\", device=DEVICE)\n",
    "\n",
    "AUDIO_PATH = \"download.mp3\"\n",
    "results = lid(AUDIO_PATH)\n",
    "print(\"Language ID Results:\", results)\n"
   ]
  }
 ],
 "metadata": {},
 "nbformat": 4,
 "nbformat_minor": 5
}
