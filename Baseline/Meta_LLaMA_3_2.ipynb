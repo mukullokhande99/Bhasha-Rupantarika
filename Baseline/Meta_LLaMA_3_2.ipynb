{
 "cells": [
  {
   "cell_type": "markdown",
   "id": "5f5e8650",
   "metadata": {},
   "source": [
    "# Meta LLaMA 3.2 (LLM for Overseas Translation/Reasoning)"
   ]
  },
  {
   "cell_type": "code",
   "execution_count": null,
   "id": "aa4d10ae",
   "metadata": {},
   "outputs": [],
   "source": [
    "!pip install torch transformers"
   ]
  },
  {
   "cell_type": "code",
   "execution_count": null,
   "id": "e46f55c4",
   "metadata": {},
   "outputs": [],
   "source": [
    "\n",
    "import torch\n",
    "from transformers import AutoTokenizer, AutoModelForCausalLM\n",
    "\n",
    "DEVICE = \"cuda\" if torch.cuda.is_available() else \"cpu\"\n",
    "MODEL_ID = \"meta-llama/Llama-3.2-1B\"\n",
    "\n",
    "tokenizer = AutoTokenizer.from_pretrained(MODEL_ID)\n",
    "model = AutoModelForCausalLM.from_pretrained(MODEL_ID).to(DEVICE)\n",
    "\n",
    "inputs = tokenizer(\"Translate 'I am learning AI' to French.\", return_tensors=\"pt\").to(DEVICE)\n",
    "with torch.no_grad():\n",
    "    outputs = model.generate(**inputs, max_length=64)\n",
    "\n",
    "print(\"Output:\", tokenizer.decode(outputs[0], skip_special_tokens=True))\n"
   ]
  }
 ],
 "metadata": {},
 "nbformat": 4,
 "nbformat_minor": 5
}
