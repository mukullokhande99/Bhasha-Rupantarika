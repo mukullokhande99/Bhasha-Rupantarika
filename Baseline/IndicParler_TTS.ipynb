{
 "cells": [
  {
   "cell_type": "markdown",
   "id": "02bb388c",
   "metadata": {},
   "source": [
    "# IndicParler TTS (Bhashini Text-to-Speech for Indic Languages)"
   ]
  },
  {
   "cell_type": "code",
   "execution_count": null,
   "id": "3f5f6b1f",
   "metadata": {},
   "outputs": [],
   "source": [
    "!pip install TTS"
   ]
  },
  {
   "cell_type": "code",
   "execution_count": null,
   "id": "04151700",
   "metadata": {},
   "outputs": [],
   "source": [
    "\n",
    "from TTS.api import TTS\n",
    "\n",
    "# Example: Hindi TTS\n",
    "tts = TTS(\"tts_models/indic/hi/indicparler_v1\")\n",
    "\n",
    "# Generate speech\n",
    "tts.tts_to_file(text=\"नमस्ते, यह एक परीक्षण है।\", file_path=\"output_hindi.wav\")\n",
    "print(\"Indic Speech saved to output_hindi.wav\")\n"
   ]
  }
 ],
 "metadata": {},
 "nbformat": 4,
 "nbformat_minor": 5
}
