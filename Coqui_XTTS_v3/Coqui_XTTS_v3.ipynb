{
 "cells": [
  {
   "cell_type": "markdown",
   "id": "bf08994a",
   "metadata": {},
   "source": [
    "# Coqui XTTS v3 (Text-to-Speech for Overseas Languages)"
   ]
  },
  {
   "cell_type": "code",
   "execution_count": null,
   "id": "6d4fe727",
   "metadata": {},
   "outputs": [],
   "source": [
    "!pip install TTS"
   ]
  },
  {
   "cell_type": "code",
   "execution_count": null,
   "id": "672f68cb",
   "metadata": {},
   "outputs": [],
   "source": [
    "\n",
    "from TTS.api import TTS\n",
    "\n",
    "# Load XTTS v3\n",
    "tts = TTS(\"tts_models/multilingual/multi-dataset/xtts_v3\")\n",
    "\n",
    "# Generate speech\n",
    "tts.tts_to_file(text=\"Hello, welcome to AI research.\", speaker_wav=None, language=\"en\", file_path=\"output_overseas.wav\")\n",
    "print(\"Speech saved to output_overseas.wav\")\n"
   ]
  }
 ],
 "metadata": {},
 "nbformat": 4,
 "nbformat_minor": 5
}
