{
 "cells": [
  {
   "cell_type": "markdown",
   "id": "d94793a4",
   "metadata": {},
   "source": [
    "# IndicWav2Vec (Hindi) Speech Recognition"
   ]
  },
  {
   "cell_type": "code",
   "execution_count": null,
   "id": "40545177",
   "metadata": {},
   "outputs": [],
   "source": [
    "!pip install torch torchaudio transformers pydub"
   ]
  },
  {
   "cell_type": "code",
   "execution_count": null,
   "id": "3f9505a6",
   "metadata": {},
   "outputs": [],
   "source": [
    "\n",
    "import torch\n",
    "from pydub import AudioSegment\n",
    "import torchaudio\n",
    "from transformers import AutoModelForCTC, AutoProcessor\n",
    "\n",
    "DEVICE = \"cuda\" if torch.cuda.is_available() else \"cpu\"\n",
    "MODEL_ID = \"ai4bharat/indicwav2vec-hindi\"\n",
    "MP3_PATH = \"download.mp3\"\n",
    "\n",
    "# Load MP3 file\n",
    "audio = AudioSegment.from_file(MP3_PATH)\n",
    "audio.export(\"audio.wav\", format=\"wav\")\n",
    "\n",
    "# Load model and processor\n",
    "processor = AutoProcessor.from_pretrained(MODEL_ID)\n",
    "model = AutoModelForCTC.from_pretrained(MODEL_ID).to(DEVICE)\n",
    "\n",
    "# Load audio\n",
    "waveform, rate = torchaudio.load(\"audio.wav\")\n",
    "inputs = processor(waveform.squeeze().numpy(), sampling_rate=rate, return_tensors=\"pt\", padding=True)\n",
    "\n",
    "# Inference\n",
    "with torch.no_grad():\n",
    "    logits = model(inputs.input_values.to(DEVICE)).logits\n",
    "\n",
    "predicted_ids = torch.argmax(logits, dim=-1)\n",
    "transcription = processor.batch_decode(predicted_ids)\n",
    "print(\"Transcription:\", transcription[0])\n"
   ]
  }
 ],
 "metadata": {},
 "nbformat": 4,
 "nbformat_minor": 5
}
