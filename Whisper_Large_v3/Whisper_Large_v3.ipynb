{
 "cells": [
  {
   "cell_type": "markdown",
   "id": "a3b61c34",
   "metadata": {},
   "source": [
    "# Whisper Large-v3 (ASR for Overseas Languages)"
   ]
  },
  {
   "cell_type": "code",
   "execution_count": null,
   "id": "be9683d1",
   "metadata": {},
   "outputs": [],
   "source": [
    "!pip install torch torchaudio transformers librosa soundfile"
   ]
  },
  {
   "cell_type": "code",
   "execution_count": null,
   "id": "46ef44bd",
   "metadata": {},
   "outputs": [],
   "source": [
    "\n",
    "import torch, librosa\n",
    "from transformers import pipeline\n",
    "\n",
    "DEVICE = 0 if torch.cuda.is_available() else -1\n",
    "\n",
    "asr = pipeline(\"automatic-speech-recognition\", model=\"openai/whisper-large-v3\", device=DEVICE)\n",
    "\n",
    "# Dummy audio (replace 'sample.mp3' with your file)\n",
    "AUDIO_PATH = \"sample.mp3\"\n",
    "text = asr(AUDIO_PATH)\n",
    "print(\"Transcription:\", text[\"text\"])\n"
   ]
  }
 ],
 "metadata": {},
 "nbformat": 4,
 "nbformat_minor": 5
}
