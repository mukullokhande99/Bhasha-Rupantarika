{
 "cells": [
  {
   "cell_type": "markdown",
   "id": "11366142-c6ee-466d-8466-d8877ca7e525",
   "metadata": {},
   "source": [
    "# Speech to Speech from one language to another complete pipeline\n"
   ]
  },
  {
   "cell_type": "code",
   "execution_count": null,
   "id": "dd5edee3-8210-40dd-84dc-54e3706deab8",
   "metadata": {},
   "outputs": [],
   "source": [
    "import whisper\n",
    "import speech_recognition as sr\n",
    "from transformers import AutoTokenizer, AutoModelForSeq2SeqLM\n",
    "from gtts import gTTS\n",
    "import os\n",
    "from Language_map import LANGUAGE_MAP "
   ]
  },
  {
   "cell_type": "code",
   "execution_count": null,
   "id": "e723b018-07c8-4c81-bf0f-2eb6e14ad423",
   "metadata": {},
   "outputs": [],
   "source": [
    "def transcribe_from_mic(language):\n",
    "    r = sr.Recognizer()\n",
    "    with sr.Microphone() as source:\n",
    "        print(f\"Speak Now ({language})...\")\n",
    "        audio = r.listen(source, timeout=10, phrase_time_limit=15)\n",
    "        with open(\"temp.wav\", \"wb\") as f:\n",
    "            f.write(audio.get_wav_data())\n",
    "    model = whisper.load_model(\"large\")\n",
    "    whisper_code = LANGUAGE_MAP.get(language.lower(), {}).get(\"whisper\", \"en\")\n",
    "    result = model.transcribe(\"temp.wav\", language=whisper_code)\n",
    "    return result[\"text\"]"
   ]
  },
  {
   "cell_type": "code",
   "execution_count": null,
   "id": "0f40a530-0a78-44f7-b123-eb968d6a697b",
   "metadata": {},
   "outputs": [],
   "source": [
    "def translate_text(text, src_language, tgt_language, model_dir):\n",
    "    tokenizer = AutoTokenizer.from_pretrained(model_dir)\n",
    "    model = AutoModelForSeq2SeqLM.from_pretrained(model_dir)\n",
    "    src_code = LANGUAGE_MAP.get(src_language.lower(), {}).get(\"nllb\", \"eng_Latn\")\n",
    "    tgt_code = LANGUAGE_MAP.get(tgt_language.lower(), {}).get(\"nllb\", \"eng_Latn\")\n",
    "    inputs = tokenizer(text, return_tensors=\"pt\")\n",
    "    translated = model.generate(\n",
    "        **inputs, forced_bos_token_id=tokenizer.lang_code_to_id[tgt_code]\n",
    "    )\n",
    "    return tokenizer.decode(translated[0], skip_special_tokens=True)"
   ]
  },
  {
   "cell_type": "code",
   "execution_count": null,
   "id": "dc6c2780-aa6f-40b6-9a98-1bc2ac8623fa",
   "metadata": {},
   "outputs": [],
   "source": [
    "def speak_text(text, language):\n",
    "    gtts_code = LANGUAGE_MAP.get(language.lower(), {}).get(\"gtts\", \"en\")\n",
    "    if gtts_code is None:\n",
    "        print(f\"Warning: gTTS does not support language '{language}', using English instead.\")\n",
    "        gtts_code = \"en\"\n",
    "    tts = gTTS(text, lang=gtts_code)\n",
    "    tts.save(\"output.mp3\")\n",
    "    if os.name == 'nt':\n",
    "        os.system(\"start output.mp3\")\n",
    "    elif os.name == 'posix':\n",
    "        os.system(\"xdg-open output.mp3\")\n",
    "    else:\n",
    "        os.system(\"open output.mp3\")"
   ]
  },
  {
   "cell_type": "code",
   "execution_count": null,
   "id": "71229c0f-3d30-49a0-8f1c-ec2ae418f25d",
   "metadata": {},
   "outputs": [],
   "source": [
    "if __name__ == \"__main__\":\n",
    "    src_language = \"kannada\"  # example input speech language\n",
    "    tgt_language = \"spanish\"  # example output translation language\n",
    "    model_path = \"path/to/quantized-nllb\"  # Use any quantized NLLB model in the NLLB-200-distilled-600 directory\n",
    "\n",
    "    input_text = transcribe_from_mic(src_language)\n",
    "    print(f\"Transcribed text ({src_language}):\", input_text)\n",
    "\n",
    "    translated_text = translate_text(input_text, src_language, tgt_language, model_path)\n",
    "    print(f\"Translated text ({tgt_language}):\", translated_text)\n",
    "\n",
    "    speak_text(translated_text, tgt_language)"
   ]
  }
 ],
 "metadata": {
  "kernelspec": {
   "display_name": "Python 3",
   "language": "python",
   "name": "python3"
  },
  "language_info": {
   "codemirror_mode": {
    "name": "ipython",
    "version": 3
   },
   "file_extension": ".py",
   "mimetype": "text/x-python",
   "name": "python",
   "nbconvert_exporter": "python",
   "pygments_lexer": "ipython3",
   "version": "3.10.10"
  }
 },
 "nbformat": 4,
 "nbformat_minor": 5
}
