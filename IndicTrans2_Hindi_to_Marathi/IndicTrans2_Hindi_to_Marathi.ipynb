{
 "cells": [
  {
   "cell_type": "markdown",
   "id": "00531def",
   "metadata": {},
   "source": [
    "# Hindi → Marathi Translation with IndicTrans2"
   ]
  },
  {
   "cell_type": "code",
   "execution_count": null,
   "id": "0a5ff8a1",
   "metadata": {},
   "outputs": [],
   "source": [
    "!pip install -U transformers torch torchvision torchaudio bitsandbytes scipy accelerate datasets sentencepiece nltk sacremoses pandas regex mock mosestokenizer"
   ]
  },
  {
   "cell_type": "code",
   "execution_count": null,
   "id": "16be91ed",
   "metadata": {},
   "outputs": [],
   "source": [
    "!git clone https://github.com/VarunGumma/IndicTransToolkit\n",
    "%cd IndicTransToolkit\n",
    "!python -m pip install --editable ./\n",
    "%cd .."
   ]
  },
  {
   "cell_type": "code",
   "execution_count": null,
   "id": "0cdca549",
   "metadata": {},
   "outputs": [],
   "source": [
    "import nltk\n",
    "nltk.download('punkt')"
   ]
  },
  {
   "cell_type": "code",
   "execution_count": null,
   "id": "5cd4433d",
   "metadata": {},
   "outputs": [],
   "source": [
    "\n",
    "import torch\n",
    "from transformers import AutoModelForSeq2SeqLM, AutoTokenizer, BitsAndBytesConfig\n",
    "from IndicTransToolkit.processor import IndicProcessor\n",
    "\n",
    "DEVICE = \"cuda\" if torch.cuda.is_available() else \"cpu\"\n",
    "print(f\"Using device: {DEVICE}\")\n",
    "\n",
    "def initialize_model_and_tokenizer(ckpt_dir, quantization=\"4-bit\"):\n",
    "    if quantization == \"4-bit\":\n",
    "        qconfig = BitsAndBytesConfig(\n",
    "            load_in_4bit=True,\n",
    "            bnb_4bit_use_double_quant=True,\n",
    "            bnb_4bit_compute_dtype=torch.bfloat16,\n",
    "        )\n",
    "    elif quantization == \"8-bit\":\n",
    "        qconfig = BitsAndBytesConfig(load_in_8bit=True)\n",
    "    else:\n",
    "        qconfig = None\n",
    "\n",
    "    tokenizer = AutoTokenizer.from_pretrained(ckpt_dir)\n",
    "    model = AutoModelForSeq2SeqLM.from_pretrained(ckpt_dir, quantization_config=qconfig).to(DEVICE)\n",
    "    return tokenizer, model\n",
    "\n",
    "ip = IndicProcessor(inference=True)\n"
   ]
  },
  {
   "cell_type": "code",
   "execution_count": null,
   "id": "e98d74f8",
   "metadata": {},
   "outputs": [],
   "source": [
    "\n",
    "print(\"=\" * 50)\n",
    "print(\"Hindi to Marathi Translation\")\n",
    "print(\"=\" * 50)\n",
    "\n",
    "indic_indic_ckpt_dir = \"ai4bharat/indictrans2-indic-indic-dist-320M\"\n",
    "indic_indic_tokenizer, indic_indic_model = initialize_model_and_tokenizer(indic_indic_ckpt_dir)\n",
    "\n",
    "hi_sents = [\n",
    "    \"मुझे स्कूल जाना पसंद है।\",\n",
    "    \"वह एक अच्छा खिलाड़ी है।\",\n",
    "]\n",
    "\n",
    "batch = ip.preprocess_batch(hi_sents, src_lang=\"hin\", tgt_lang=\"mar\")\n",
    "inputs = indic_indic_tokenizer(batch, return_tensors=\"pt\", padding=True).to(DEVICE)\n",
    "\n",
    "with torch.no_grad():\n",
    "    generated = indic_indic_model.generate(**inputs, max_length=128)\n",
    "\n",
    "output = indic_indic_tokenizer.batch_decode(generated, skip_special_tokens=True)\n",
    "print(\"Translations:\", output)\n"
   ]
  }
 ],
 "metadata": {},
 "nbformat": 4,
 "nbformat_minor": 5
}
